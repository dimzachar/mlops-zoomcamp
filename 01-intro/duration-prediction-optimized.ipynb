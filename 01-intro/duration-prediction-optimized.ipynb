{
 "cells": [
  {
   "cell_type": "code",
   "execution_count": 1,
   "id": "ba201b49",
   "metadata": {},
   "outputs": [],
   "source": [
    "import os\n",
    "import joblib\n",
    "import pandas as pd\n",
    "import seaborn as sns\n",
    "import matplotlib.pyplot as plt\n",
    "from sklearn.feature_extraction import DictVectorizer\n",
    "from sklearn.linear_model import LinearRegression, Lasso\n",
    "from sklearn.metrics import mean_squared_error"
   ]
  },
  {
   "cell_type": "code",
   "execution_count": 2,
   "id": "ad52fb69",
   "metadata": {},
   "outputs": [],
   "source": [
    "def read_dataframe(filename):\n",
    "    \"\"\"\n",
    "    Function to read the dataframe and perform initial preprocessing.\n",
    "    \"\"\"\n",
    "    try:\n",
    "        if filename.endswith('.csv'):\n",
    "            df = pd.read_csv(filename)\n",
    "            df.lpep_dropoff_datetime = pd.to_datetime(df.lpep_dropoff_datetime)\n",
    "            df.lpep_pickup_datetime = pd.to_datetime(df.lpep_pickup_datetime)\n",
    "        elif filename.endswith('.parquet'):\n",
    "            df = pd.read_parquet(filename)\n",
    "    except Exception as e:\n",
    "        print(f\"Error reading file: {str(e)}\")\n",
    "        return None\n",
    "\n",
    "    df['duration'] = (df['lpep_dropoff_datetime'] - df['lpep_pickup_datetime']).dt.total_seconds() / 60\n",
    "    df = df[(df['duration'] >= 1) & (df['duration'] <= 60)].copy()\n",
    "    categorical = ['PULocationID', 'DOLocationID']\n",
    "    df.loc[:, categorical] = df[categorical].astype(str)\n",
    "    \n",
    "    return df"
   ]
  },
  {
   "cell_type": "code",
   "execution_count": 3,
   "id": "848a167b",
   "metadata": {},
   "outputs": [],
   "source": [
    "def train_model(df_train, df_val, categorical, numerical, target):\n",
    "    \"\"\"\n",
    "    Function to train the model.\n",
    "    \"\"\"\n",
    "    dv = DictVectorizer()\n",
    "    train_dicts = df_train[categorical + numerical].to_dict(orient='records')\n",
    "    X_train = dv.fit_transform(train_dicts)\n",
    "\n",
    "    val_dicts = df_val[categorical + numerical].to_dict(orient='records')\n",
    "    X_val = dv.transform(val_dicts)\n",
    "\n",
    "    y_train = df_train[target].values\n",
    "    y_val = df_val[target].values\n",
    "\n",
    "    lr = LinearRegression()\n",
    "    lr.fit(X_train, y_train)\n",
    "\n",
    "    y_pred = lr.predict(X_val)\n",
    "\n",
    "    rmse = mean_squared_error(y_val, y_pred, squared=False)\n",
    "    \n",
    "    return dv, lr, rmse"
   ]
  },
  {
   "cell_type": "code",
   "execution_count": 4,
   "id": "63547a3d",
   "metadata": {},
   "outputs": [],
   "source": [
    "def save_model(dv, model, model_path):\n",
    "    \"\"\"\n",
    "    Function to save the model.\n",
    "    \"\"\"\n",
    "    if not os.path.exists(os.path.dirname(model_path)):\n",
    "        os.makedirs(os.path.dirname(model_path))\n",
    "\n",
    "    with open(model_path, 'wb') as f_out:\n",
    "        joblib.dump((dv, model), f_out)\n"
   ]
  },
  {
   "cell_type": "code",
   "execution_count": 5,
   "id": "89fc5c2f",
   "metadata": {},
   "outputs": [
    {
     "name": "stdout",
     "output_type": "stream",
     "text": [
      "RMSE: 7.758715207983167\n"
     ]
    }
   ],
   "source": [
    "df_train = read_dataframe('../data/green_tripdata_2021-01.parquet')\n",
    "df_val = read_dataframe('../data/green_tripdata_2021-02.parquet')\n",
    "\n",
    "df_train['PU_DO'] = df_train['PULocationID'] + '_' + df_train['DOLocationID']\n",
    "df_val['PU_DO'] = df_val['PULocationID'] + '_' + df_val['DOLocationID']\n",
    "\n",
    "categorical = ['PU_DO']\n",
    "numerical = ['trip_distance']\n",
    "target = 'duration'\n",
    "\n",
    "dv, model, rmse = train_model(df_train, df_val, categorical, numerical, target)\n",
    "print(f\"RMSE: {rmse}\")\n",
    "\n",
    "save_model(dv, model, 'models/lin_reg.bin')"
   ]
  }
 ],
 "metadata": {
  "kernelspec": {
   "display_name": "Python 3 (ipykernel)",
   "language": "python",
   "name": "python3"
  },
  "language_info": {
   "codemirror_mode": {
    "name": "ipython",
    "version": 3
   },
   "file_extension": ".py",
   "mimetype": "text/x-python",
   "name": "python",
   "nbconvert_exporter": "python",
   "pygments_lexer": "ipython3",
   "version": "3.10.9"
  }
 },
 "nbformat": 4,
 "nbformat_minor": 5
}
